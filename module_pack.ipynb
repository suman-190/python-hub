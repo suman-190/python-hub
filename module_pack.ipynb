{
 "cells": [
  {
   "cell_type": "code",
   "execution_count": 1,
   "id": "8feacbaa",
   "metadata": {},
   "outputs": [],
   "source": [
    "# Why use Modules and Packages\n",
    "\n",
    "# Organize code \n",
    "# Resuse code in multiple projects\n",
    "# Improve readability and maintainability\n",
    "#  "
   ]
  },
  {
   "cell_type": "code",
   "execution_count": 2,
   "id": "58b664fa",
   "metadata": {},
   "outputs": [
    {
     "name": "stdout",
     "output_type": "stream",
     "text": [
      "5\n",
      "-1\n",
      "6\n"
     ]
    }
   ],
   "source": [
    "import random\n",
    "import math \n",
    "# import requests\n",
    "\n",
    "import cal_math\n",
    "\n",
    "print(cal_math.sum(2,3))\n",
    "print(cal_math.sub(2,3))\n",
    "print(cal_math.mul(2,3))\n",
    "\n"
   ]
  },
  {
   "cell_type": "code",
   "execution_count": 3,
   "id": "0489ff3b",
   "metadata": {},
   "outputs": [
    {
     "name": "stdout",
     "output_type": "stream",
     "text": [
      "2\n"
     ]
    }
   ],
   "source": [
    "print(random.randint(1,10))\n",
    "\n",
    "\n"
   ]
  },
  {
   "cell_type": "code",
   "execution_count": 6,
   "id": "380a5627",
   "metadata": {},
   "outputs": [
    {
     "name": "stdout",
     "output_type": "stream",
     "text": [
      "Month to Month\n",
      "Month to Month from Debt Analysis\n"
     ]
    }
   ],
   "source": [
    "import finance.bankloan_analysis as ba\n",
    "import finance.debt_analysis as de\n",
    "\n",
    "print(ba.month_to_month_loan())\n",
    "print(de.month_to_month_debt())\n",
    "\n",
    "\n",
    "\n"
   ]
  }
 ],
 "metadata": {
  "kernelspec": {
   "display_name": "python-hub (3.11.13)",
   "language": "python",
   "name": "python3"
  },
  "language_info": {
   "codemirror_mode": {
    "name": "ipython",
    "version": 3
   },
   "file_extension": ".py",
   "mimetype": "text/x-python",
   "name": "python",
   "nbconvert_exporter": "python",
   "pygments_lexer": "ipython3",
   "version": "3.11.13"
  }
 },
 "nbformat": 4,
 "nbformat_minor": 5
}
