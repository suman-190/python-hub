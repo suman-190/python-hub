{
 "cells": [
  {
   "cell_type": "code",
   "execution_count": null,
   "id": "977dc182",
   "metadata": {},
   "outputs": [
    {
     "name": "stdout",
     "output_type": "stream",
     "text": [
      "You cannot divide by zero!\n"
     ]
    }
   ],
   "source": [
    "# 1. Exception Handling\n",
    "# 2. file conection\n",
    "# 3. DB coonection Pull \n",
    "\n",
    "# x = 10/0\n",
    "\n",
    "try:\n",
    "    # code that might cause an error\n",
    "    result = 10/0\n",
    "except ZeroDivisionError:\n",
    "    print(\"You cannot divide by zero!\")\n",
    "\n"
   ]
  },
  {
   "cell_type": "code",
   "execution_count": null,
   "id": "b7363d75",
   "metadata": {},
   "outputs": [
    {
     "name": "stdout",
     "output_type": "stream",
     "text": [
      "Can't divide by zero\n"
     ]
    }
   ],
   "source": [
    "try:\n",
    "    x= int(\"hello\") #ValueError\n",
    "    y = 10/0\n",
    "    \n",
    "# ZeroDivisionError\n",
    "except ValueError:\n",
    "    print(\"That's not a valid integer. \")\n",
    "except ZeroDivisionError:\n",
    "    print(\"Can't divide by zero\")\n"
   ]
  },
  {
   "cell_type": "code",
   "execution_count": null,
   "id": "83d4612a",
   "metadata": {},
   "outputs": [],
   "source": []
  },
  {
   "cell_type": "code",
   "execution_count": null,
   "id": "0fca2985",
   "metadata": {},
   "outputs": [],
   "source": [
    "# numpy\n",
    "# pandas\n",
    "# matplotlib\n",
    "\n",
    "\n",
    "import pandas as pd\n",
    "import numpy as np\n",
    "\n",
    "\n",
    "arr = np.array([1,2,3,4,5,6])\n",
    "\n",
    "arr\n",
    "\n",
    "\n",
    "\n",
    "\n",
    "\n",
    "\n",
    "\n",
    "\n",
    "\n",
    "\n",
    "\n"
   ]
  }
 ],
 "metadata": {
  "kernelspec": {
   "display_name": "python-hub (3.11.13)",
   "language": "python",
   "name": "python3"
  },
  "language_info": {
   "codemirror_mode": {
    "name": "ipython",
    "version": 3
   },
   "file_extension": ".py",
   "mimetype": "text/x-python",
   "name": "python",
   "nbconvert_exporter": "python",
   "pygments_lexer": "ipython3",
   "version": "3.11.13"
  }
 },
 "nbformat": 4,
 "nbformat_minor": 5
}
