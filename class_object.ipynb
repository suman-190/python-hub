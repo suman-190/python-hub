{
 "cells": [
  {
   "cell_type": "code",
   "execution_count": null,
   "id": "04c760e1",
   "metadata": {},
   "outputs": [],
   "source": [
    "# OOPS in python\n",
    "\n",
    "# Procedure = Function series of instruction to accomplish a task\n",
    "# \n",
    "# accountOpen()\n",
    "# loan()\n",
    "\n",
    "# OOPS => It is a programming paradigm that provides a means of structuring programs so that \n",
    "# properties and behaviors are bundled into individuals objects\n",
    "# \n",
    "#  \n",
    "\n"
   ]
  },
  {
   "cell_type": "code",
   "execution_count": 4,
   "id": "0d1c73fb",
   "metadata": {},
   "outputs": [
    {
     "name": "stdout",
     "output_type": "stream",
     "text": [
      "Object Created <__main__.Atm object at 0x0000019BC2C6DDD0>\n",
      "Object Created <__main__.Atm object at 0x0000019BC2C6CED0>\n",
      "Object Created <__main__.Atm object at 0x0000019BC2C6AE10>\n"
     ]
    }
   ],
   "source": [
    "class Atm:\n",
    "    def __init__(self):\n",
    "        print(\"Object Created\",self)\n",
    "        \n",
    "\n",
    "ob1 = Atm()\n",
    "ob2 = Atm()\n",
    "ob3 = Atm()\n",
    "\n",
    "# print(ob1)\n"
   ]
  },
  {
   "cell_type": "code",
   "execution_count": 21,
   "id": "d581ff5d",
   "metadata": {},
   "outputs": [
    {
     "name": "stdout",
     "output_type": "stream",
     "text": [
      "Tesla\n"
     ]
    }
   ],
   "source": [
    "class Car:\n",
    "    def __init__(self,brand,model):\n",
    "        self._brand = brand\n",
    "        self.model = model\n",
    "\n",
    "    def drive(self):\n",
    "        return f\"{self._brand} {self.model} is driving\"   \n",
    "    \n",
    "    def getbrand(self):\n",
    "        return self._brand\n",
    "\n",
    "car1 = Car(\"Tesla\",\"Model S\")\n",
    "car2 = Car(\"Toyota\",\"Corolla\")\n",
    "\n",
    "\n",
    "car1.drive()\n",
    "\n",
    "car2.drive()\n",
    "print(car1._brand)\n",
    "        "
   ]
  },
  {
   "cell_type": "code",
   "execution_count": null,
   "id": "20e03d9b",
   "metadata": {},
   "outputs": [
    {
     "name": "stdout",
     "output_type": "stream",
     "text": [
      "1000\n"
     ]
    },
    {
     "ename": "AttributeError",
     "evalue": "'BankAcount' object has no attribute '__balance'",
     "output_type": "error",
     "traceback": [
      "\u001b[31m---------------------------------------------------------------------------\u001b[39m",
      "\u001b[31mAttributeError\u001b[39m                            Traceback (most recent call last)",
      "\u001b[36mCell\u001b[39m\u001b[36m \u001b[39m\u001b[32mIn[14]\u001b[39m\u001b[32m, line 19\u001b[39m\n\u001b[32m     16\u001b[39m acc.deposit(\u001b[32m1000\u001b[39m)\n\u001b[32m     18\u001b[39m \u001b[38;5;28mprint\u001b[39m(acc.get_balance())\n\u001b[32m---> \u001b[39m\u001b[32m19\u001b[39m \u001b[38;5;28mprint\u001b[39m(\u001b[43macc\u001b[49m\u001b[43m.\u001b[49m\u001b[43m__balance\u001b[49m)\n",
      "\u001b[31mAttributeError\u001b[39m: 'BankAcount' object has no attribute '__balance'"
     ]
    }
   ],
   "source": [
    "# Encapsulation (data hiding + bundling)\n",
    "\n",
    "\n",
    "class BankAcount: \n",
    "    def __init__(self):\n",
    "        self.__balance = 0\n",
    "\n",
    "    def deposit(self,amount):\n",
    "        self.__balance +=amount\n",
    "\n",
    "    def get_balance(self):\n",
    "        return self.__balance \n",
    "\n",
    "\n",
    "acc = BankAcount()\n",
    "acc.deposit(1000)\n",
    "\n",
    "print(acc.get_balance())\n",
    "print(acc.__balance)\n"
   ]
  },
  {
   "cell_type": "code",
   "execution_count": null,
   "id": "82d7cd70",
   "metadata": {},
   "outputs": [
    {
     "name": "stdout",
     "output_type": "stream",
     "text": [
      "Woof!\n",
      "Meow\n"
     ]
    }
   ],
   "source": [
    "# Inheritance (reuability)\n",
    "\n",
    "# A subclass inherits from a parent class and can override methods\n",
    "\n",
    "class Animal:\n",
    "    def __init__(self,name):\n",
    "        self.name = name\n",
    "    \n",
    "    def speak(self):\n",
    "        return \"Sound\"\n",
    "    \n",
    "\n",
    "#child Class\n",
    "\n",
    "class Dog(Animal):\n",
    "    def speak(self):\n",
    "        return \"Woof!\"\n",
    "\n",
    "class Cat(Animal):\n",
    "    def speak(self):\n",
    "        return \"Meow\"\n",
    "    \n",
    "\n",
    "dog = Dog(\"Buddy\")\n",
    "cat = Cat(\"Kitty\")\n",
    "             \n",
    "print(dog.speak())\n",
    "print(cat.speak())         "
   ]
  },
  {
   "cell_type": "code",
   "execution_count": null,
   "id": "8e321973",
   "metadata": {},
   "outputs": [],
   "source": [
    "class Vehicle:\n",
    "    def move(self):\n",
    "        print(\"Vehicles can move. \")\n",
    "\n",
    "class Car(Vehicle):\n",
    "    def move(self):\n",
    "        print(\"Car is driving\")\n",
    "\n",
    "class Boat(Vehicle):\n",
    "    def move(self):\n",
    "        print(\"Boat is sailing\")\n",
    "\n",
    "\n",
    "\n",
    "\n"
   ]
  },
  {
   "cell_type": "code",
   "execution_count": null,
   "id": "26991411",
   "metadata": {},
   "outputs": [],
   "source": []
  }
 ],
 "metadata": {
  "kernelspec": {
   "display_name": "python-hub (3.11.13)",
   "language": "python",
   "name": "python3"
  },
  "language_info": {
   "codemirror_mode": {
    "name": "ipython",
    "version": 3
   },
   "file_extension": ".py",
   "mimetype": "text/x-python",
   "name": "python",
   "nbconvert_exporter": "python",
   "pygments_lexer": "ipython3",
   "version": "3.11.13"
  }
 },
 "nbformat": 4,
 "nbformat_minor": 5
}
