{
 "cells": [
  {
   "cell_type": "code",
   "execution_count": null,
   "id": "72c021c2",
   "metadata": {},
   "outputs": [
    {
     "name": "stdout",
     "output_type": "stream",
     "text": [
      "['1' '2' '3' '4' '5' 'suman']\n"
     ]
    }
   ],
   "source": [
    "import numpy as np\n",
    "\n",
    "arr = np.array([1,2,3,4,5])\n",
    "\n",
    "\n",
    "arr1 = [[2,3,5],[3,4,5]]\n",
    "arr2 = [[2,3,5],[3,4,5]]\n",
    "\n",
    "\n",
    "\n",
    "\n",
    "print(arr)"
   ]
  },
  {
   "cell_type": "code",
   "execution_count": 5,
   "id": "f5b6983e",
   "metadata": {},
   "outputs": [
    {
     "name": "stdout",
     "output_type": "stream",
     "text": [
      "[0 2 4 6 8]\n"
     ]
    }
   ],
   "source": [
    "arr = np.arange(0,10,2)\n",
    "print(arr)"
   ]
  },
  {
   "cell_type": "code",
   "execution_count": 8,
   "id": "f686af44",
   "metadata": {},
   "outputs": [
    {
     "name": "stdout",
     "output_type": "stream",
     "text": [
      "[[0. 0. 0.]\n",
      " [0. 0. 0.]]\n",
      "[[1. 1.]\n",
      " [1. 1.]\n",
      " [1. 1.]]\n",
      "[[0.27943918 0.13036142]\n",
      " [0.03145335 0.51890458]]\n"
     ]
    }
   ],
   "source": [
    "zeros = np.zeros((2,3))\n",
    "print(zeros)\n",
    "\n",
    "ones = np.ones((3,2))\n",
    "print(ones)\n",
    "\n",
    "rand = np.random.rand(2,2)\n",
    "print(rand)\n",
    "\n"
   ]
  },
  {
   "cell_type": "code",
   "execution_count": 9,
   "id": "0f441fbc",
   "metadata": {},
   "outputs": [
    {
     "name": "stdout",
     "output_type": "stream",
     "text": [
      "2\n",
      "(2, 3)\n",
      "6\n",
      "int64\n"
     ]
    }
   ],
   "source": [
    "# Array Attributes\n",
    "\n",
    "a = np.array([[1,2,3],[4,5,6]])\n",
    "print(a.ndim) #number of Dimension\n",
    "print(a.shape) #rows and column\n",
    "print(a.size) #total number of emelments\n",
    "print(a.dtype)\n",
    "\n"
   ]
  },
  {
   "cell_type": "markdown",
   "id": "b08ecbb4",
   "metadata": {},
   "source": [
    "Create a NumPy array from 1 to 20.\n",
    "\n",
    "Reshape it into a 4×5 matrix.\n",
    "\n",
    "Find the mean and sum of each row.\n",
    "\n",
    "Extract only even numbers using slicing or condition."
   ]
  }
 ],
 "metadata": {
  "kernelspec": {
   "display_name": "python_lib (3.11.13)",
   "language": "python",
   "name": "python3"
  },
  "language_info": {
   "codemirror_mode": {
    "name": "ipython",
    "version": 3
   },
   "file_extension": ".py",
   "mimetype": "text/x-python",
   "name": "python",
   "nbconvert_exporter": "python",
   "pygments_lexer": "ipython3",
   "version": "3.11.13"
  }
 },
 "nbformat": 4,
 "nbformat_minor": 5
}
