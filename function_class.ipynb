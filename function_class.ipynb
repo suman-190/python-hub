{
 "cells": [
  {
   "cell_type": "markdown",
   "id": "43992ac2",
   "metadata": {},
   "source": [
    "### What are function "
   ]
  },
  {
   "cell_type": "code",
   "execution_count": 53,
   "id": "26ff863c",
   "metadata": {},
   "outputs": [
    {
     "name": "stdout",
     "output_type": "stream",
     "text": [
      "Sum is  5\n"
     ]
    }
   ],
   "source": [
    "# function is block of code  which take  some input and produce some output\n",
    "# abstraction \n",
    "\n",
    "\n",
    "def sum(a,b):\n",
    "    print(\"Sum is \", a+b)\n",
    "\n",
    "sum(2,3)   \n",
    "\n"
   ]
  },
  {
   "cell_type": "code",
   "execution_count": 54,
   "id": "e8cd089b",
   "metadata": {},
   "outputs": [
    {
     "name": "stdout",
     "output_type": "stream",
     "text": [
      "Odd\n",
      "This Function will check the number is true or not\n"
     ]
    }
   ],
   "source": [
    "# Given number is even or odd\n",
    "\n",
    "def is_even(i):\n",
    "    '''This Function will check the number is true or not'''\n",
    "    if(i%2==0):\n",
    "        return \"Even\"\n",
    "    else:\n",
    "        return \"Odd\"\n",
    "\n",
    "\n",
    "print(is_even(5))\n",
    "\n",
    "print(is_even.__doc__)\n",
    "\n",
    "\n",
    "\n",
    "\n",
    "\n"
   ]
  },
  {
   "cell_type": "markdown",
   "id": "4cc70b96",
   "metadata": {},
   "source": [
    "### Types of Argument\n",
    "- Default Argument\n",
    "- Positional Argument\n",
    "- keyword Argument\n",
    "\n"
   ]
  },
  {
   "cell_type": "code",
   "execution_count": 55,
   "id": "3d94a0aa",
   "metadata": {},
   "outputs": [
    {
     "name": "stdout",
     "output_type": "stream",
     "text": [
      "529\n"
     ]
    }
   ],
   "source": [
    "# Default Argument\n",
    "\n",
    "\n",
    "def power(a,b=2):\n",
    "    return a**b\n",
    "\n",
    "print(power(a=23))"
   ]
  },
  {
   "cell_type": "code",
   "execution_count": 56,
   "id": "b5db87d2",
   "metadata": {},
   "outputs": [
    {
     "name": "stdout",
     "output_type": "stream",
     "text": [
      "<class 'tuple'>\n",
      "44\n"
     ]
    }
   ],
   "source": [
    "\n",
    "\n",
    "# Allow us to pass the variable number of arguments\n",
    "def sum_number(*args):\n",
    "    print(type(args))\n",
    "    sum=0\n",
    "    for i in args:\n",
    "        sum = sum+i\n",
    "    return sum    \n",
    "\n",
    "\n",
    "result = sum_number(2,3,4,5,6,7,8,9)\n",
    "print(result)\n",
    "\n",
    "\n"
   ]
  },
  {
   "cell_type": "code",
   "execution_count": null,
   "id": "3b7877bc",
   "metadata": {},
   "outputs": [],
   "source": []
  },
  {
   "cell_type": "code",
   "execution_count": 57,
   "id": "1b8611e4",
   "metadata": {},
   "outputs": [
    {
     "name": "stdout",
     "output_type": "stream",
     "text": [
      "80\n"
     ]
    }
   ],
   "source": [
    "li=[1,2,8,34,5,6,7,8,9]\n",
    "sum=0\n",
    "for i in li:\n",
    "    sum+=i\n",
    "print(sum)"
   ]
  },
  {
   "cell_type": "code",
   "execution_count": 58,
   "id": "6e82a979",
   "metadata": {},
   "outputs": [
    {
     "name": "stdout",
     "output_type": "stream",
     "text": [
      "Suman\n",
      "33\n"
     ]
    }
   ],
   "source": [
    "# Dictionaries\n",
    "\n",
    "# key => unique, immutable\n",
    "# values => can be any data types \n",
    "\n",
    "student = {\n",
    "    \"name\":\"Suman\",\n",
    "    \"age\": 33,\n",
    "    \"course\":\"Data Analytics\",\n",
    "\n",
    "}\n",
    "\n",
    "\n",
    "print(student[\"name\"])\n",
    "print(student.get('age'))\n"
   ]
  },
  {
   "cell_type": "code",
   "execution_count": 59,
   "id": "2d43eae2",
   "metadata": {},
   "outputs": [
    {
     "name": "stdout",
     "output_type": "stream",
     "text": [
      "{'name': 'Suman', 'age': 25, 'course': 'Data Analytics', 'grade': 'A'}\n"
     ]
    }
   ],
   "source": [
    "student[\"grade\"] = \"A\"\n",
    "\n",
    "student[\"age\"]=25\n",
    "\n",
    "print(student)"
   ]
  },
  {
   "cell_type": "code",
   "execution_count": 60,
   "id": "8f760f62",
   "metadata": {},
   "outputs": [
    {
     "name": "stdout",
     "output_type": "stream",
     "text": [
      "{'age': 25}\n"
     ]
    }
   ],
   "source": [
    "student.pop(\"course\")\n",
    "student.popitem()\n",
    "# Removes last inserted pair\n",
    "\n",
    "\n",
    "\n",
    "del student[\"name\"]\n",
    "print(student)\n"
   ]
  }
 ],
 "metadata": {
  "kernelspec": {
   "display_name": "python-hub (3.11.13)",
   "language": "python",
   "name": "python3"
  },
  "language_info": {
   "codemirror_mode": {
    "name": "ipython",
    "version": 3
   },
   "file_extension": ".py",
   "mimetype": "text/x-python",
   "name": "python",
   "nbconvert_exporter": "python",
   "pygments_lexer": "ipython3",
   "version": "3.11.13"
  }
 },
 "nbformat": 4,
 "nbformat_minor": 5
}
