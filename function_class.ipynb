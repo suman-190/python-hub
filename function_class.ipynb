{
 "cells": [
  {
   "cell_type": "markdown",
   "id": "43992ac2",
   "metadata": {},
   "source": [
    "### What are function "
   ]
  },
  {
   "cell_type": "code",
   "execution_count": 11,
   "id": "26ff863c",
   "metadata": {},
   "outputs": [
    {
     "name": "stdout",
     "output_type": "stream",
     "text": [
      "Sum is  5\n"
     ]
    }
   ],
   "source": [
    "# function is block of code  which take  some input and produce some output\n",
    "# abstraction \n",
    "\n",
    "\n",
    "def sum(a,b):\n",
    "    print(\"Sum is \", a+b)\n",
    "\n",
    "sum(2,3)   \n",
    "\n"
   ]
  },
  {
   "cell_type": "code",
   "execution_count": 12,
   "id": "e8cd089b",
   "metadata": {},
   "outputs": [
    {
     "name": "stdout",
     "output_type": "stream",
     "text": [
      "Odd\n",
      "This Function will check the number is true or not\n"
     ]
    }
   ],
   "source": [
    "# Given number is even or odd\n",
    "\n",
    "def is_even(i):\n",
    "    '''This Function will check the number is true or not'''\n",
    "    if(i%2==0):\n",
    "        return \"Even\"\n",
    "    else:\n",
    "        return \"Odd\"\n",
    "\n",
    "\n",
    "print(is_even(5))\n",
    "\n",
    "print(is_even.__doc__)\n",
    "\n",
    "\n",
    "\n",
    "\n",
    "\n"
   ]
  },
  {
   "cell_type": "markdown",
   "id": "4cc70b96",
   "metadata": {},
   "source": [
    "### Types of Argument\n",
    "- Default Argument\n",
    "- Positional Argument\n",
    "- keyword Argument\n",
    "\n"
   ]
  },
  {
   "cell_type": "code",
   "execution_count": 13,
   "id": "3d94a0aa",
   "metadata": {},
   "outputs": [
    {
     "name": "stdout",
     "output_type": "stream",
     "text": [
      "529\n"
     ]
    }
   ],
   "source": [
    "# Default Argument\n",
    "\n",
    "\n",
    "def power(a,b=2):\n",
    "    return a**b\n",
    "\n",
    "print(power(a=23))"
   ]
  },
  {
   "cell_type": "code",
   "execution_count": 14,
   "id": "b5db87d2",
   "metadata": {},
   "outputs": [
    {
     "name": "stdout",
     "output_type": "stream",
     "text": [
      "<class 'tuple'>\n",
      "44\n"
     ]
    }
   ],
   "source": [
    "\n",
    "\n",
    "# Allow us to pass the variable number of arguments\n",
    "def sum_number(*args):\n",
    "    print(type(args))\n",
    "    sum=0\n",
    "    for i in args:\n",
    "        sum = sum+i\n",
    "    return sum    \n",
    "\n",
    "\n",
    "result = sum_number(2,3,4,5,6,7,8,9)\n",
    "print(result)\n",
    "\n",
    "\n"
   ]
  },
  {
   "cell_type": "code",
   "execution_count": null,
   "id": "3b7877bc",
   "metadata": {},
   "outputs": [],
   "source": []
  },
  {
   "cell_type": "code",
   "execution_count": 15,
   "id": "1b8611e4",
   "metadata": {},
   "outputs": [
    {
     "name": "stdout",
     "output_type": "stream",
     "text": [
      "80\n"
     ]
    }
   ],
   "source": [
    "li=[1,2,8,34,5,6,7,8,9]\n",
    "sum=0\n",
    "for i in li:\n",
    "    sum+=i\n",
    "print(sum)"
   ]
  },
  {
   "cell_type": "code",
   "execution_count": 16,
   "id": "6e82a979",
   "metadata": {},
   "outputs": [
    {
     "name": "stdout",
     "output_type": "stream",
     "text": [
      "Suman\n",
      "33\n"
     ]
    }
   ],
   "source": [
    "# Dictionaries\n",
    "\n",
    "# key => unique, immutable\n",
    "# values => can be any data types \n",
    "\n",
    "student = {\n",
    "    \"name\":\"Suman\",\n",
    "    \"age\": 33,\n",
    "    \"course\":\"Data Analytics\",\n",
    "\n",
    "}\n",
    "\n",
    "\n",
    "print(student[\"name\"])\n",
    "print(student.get('age'))\n"
   ]
  },
  {
   "cell_type": "code",
   "execution_count": 17,
   "id": "2d43eae2",
   "metadata": {},
   "outputs": [
    {
     "name": "stdout",
     "output_type": "stream",
     "text": [
      "{'name': 'Suman', 'age': 25, 'course': 'Data Analytics', 'grade': 'A'}\n"
     ]
    }
   ],
   "source": [
    "student[\"grade\"] = \"A\"\n",
    "\n",
    "student[\"age\"]=25\n",
    "\n",
    "print(student)"
   ]
  },
  {
   "cell_type": "code",
   "execution_count": 18,
   "id": "8f760f62",
   "metadata": {},
   "outputs": [
    {
     "name": "stdout",
     "output_type": "stream",
     "text": [
      "{'age': 25}\n"
     ]
    }
   ],
   "source": [
    "student.pop(\"course\")\n",
    "student.popitem()\n",
    "# Removes last inserted pair\n",
    "\n",
    "\n",
    "\n",
    "del student[\"name\"]\n",
    "print(student)\n"
   ]
  },
  {
   "cell_type": "code",
   "execution_count": null,
   "id": "8dad9b2d",
   "metadata": {},
   "outputs": [
    {
     "name": "stdout",
     "output_type": "stream",
     "text": [
      "name\n",
      "age\n",
      "course\n",
      "Suman\n",
      "33\n",
      "Data Analytics\n",
      "name Suman\n",
      "age 33\n",
      "course Data Analytics\n"
     ]
    }
   ],
   "source": [
    "# Looping through a Dictionary\n",
    "student = {\n",
    "    \"name\":\"Suman\",\n",
    "    \"age\": 33,\n",
    "    \"courses\":{\n",
    "        \"name1\":\"Data\",\n",
    "        \"name2\":\"Web\"\n",
    "    },\n",
    "\n",
    "\n",
    "}\n",
    "\n",
    "\n",
    "\n",
    "for key in student:\n",
    "    print(key)\n",
    "\n",
    "for value in student.values():\n",
    "    print(value)\n",
    "\n",
    "\n",
    "for key, value in student.items():\n",
    "    print(key,value)"
   ]
  },
  {
   "cell_type": "code",
   "execution_count": null,
   "id": "e2d2f495",
   "metadata": {},
   "outputs": [
    {
     "name": "stdout",
     "output_type": "stream",
     "text": [
      "2\n",
      "1\n",
      "20\n"
     ]
    }
   ],
   "source": [
    "# Tuple\n",
    "\n",
    "# Tuple is Class\n",
    "# Tuple is iterable\n",
    "# Tuple is Immutable\n",
    "# Tuple Element are indexed\n",
    "\n",
    "\n",
    "t1 =(2,2,3,45,654,20)\n",
    "print(t1.count(2))\n",
    "print(t1.count(20))\n",
    "print(t1[-1])\n",
    "\n"
   ]
  },
  {
   "cell_type": "code",
   "execution_count": null,
   "id": "b26ee0ef",
   "metadata": {},
   "outputs": [
    {
     "name": "stdout",
     "output_type": "stream",
     "text": [
      "10\n",
      "2\n",
      "26\n"
     ]
    }
   ],
   "source": [
    "t1 = (26,2,2,2,2,2,3,4,6,7)\n",
    "\n",
    "# Built in Methods\n",
    "\n",
    "print(len(t1))\n",
    "print(min(t1))\n",
    "print(max(t1))\n",
    "\n",
    "# Write a program to find maximum and minimum element in tuple "
   ]
  },
  {
   "cell_type": "code",
   "execution_count": null,
   "id": "cbd03da9",
   "metadata": {},
   "outputs": [
    {
     "name": "stdout",
     "output_type": "stream",
     "text": [
      "{1, 2, 3, 4}\n",
      "{'Watermelon', 'Apple', 'Orange'}\n",
      "<class 'dict'>\n",
      "{1, 2, 4, 5, 6, 7, 20}\n",
      "{1, 2, 4, 5, 6, 7, 20}\n"
     ]
    }
   ],
   "source": [
    "\n",
    "# Set\n",
    "# An unorderded collection of unique items\n",
    "# No Duplicates allowd \n",
    "# ITems must be immmutable (numbers,strings, tuples)\n",
    "\n",
    "my_set = {1,2,2,3,4}\n",
    "\n",
    "print(my_set)\n",
    "\n",
    "fruits = set([\"Apple\",\"Orange\",\"Watermelon\"])\n",
    "print(fruits)\n",
    "\n",
    "a = {}\n",
    "\n",
    "print(type(a))\n",
    "\n",
    "s = {1,2}\n",
    "s.add(20)\n",
    "s.update([4,5,6,7])\n",
    "print(s)\n",
    "\n",
    "# s.remove(200)\n",
    "\n",
    "s.discard(100)\n",
    "# Removes if exists\n",
    "\n",
    "s.pop()\n",
    "# Removes a random  \n",
    "\n",
    "\n",
    "s.clear()\n",
    "\n",
    "print(s)"
   ]
  },
  {
   "cell_type": "code",
   "execution_count": 53,
   "id": "f063b8ea",
   "metadata": {},
   "outputs": [
    {
     "name": "stdout",
     "output_type": "stream",
     "text": [
      "{1, 2, 3, 4, 5, 6}\n",
      "{3, 4}\n",
      "{1, 2}\n",
      "{1, 2, 5, 6}\n"
     ]
    }
   ],
   "source": [
    "# Operation \n",
    "\n",
    "a = {1,2,3,4}\n",
    "b = {3,4,5,6}\n",
    "\n",
    "print(a | b)\n",
    "\n",
    "print(a & b)\n",
    "\n",
    "print(a - b)\n",
    "print(a ^ b)"
   ]
  },
  {
   "cell_type": "code",
   "execution_count": null,
   "id": "cd697365",
   "metadata": {},
   "outputs": [
    {
     "name": "stdout",
     "output_type": "stream",
     "text": [
      "True\n",
      "True\n"
     ]
    },
    {
     "ename": "AttributeError",
     "evalue": "'frozenset' object has no attribute 'add'",
     "output_type": "error",
     "traceback": [
      "\u001b[31m---------------------------------------------------------------------------\u001b[39m",
      "\u001b[31mAttributeError\u001b[39m                            Traceback (most recent call last)",
      "\u001b[36mCell\u001b[39m\u001b[36m \u001b[39m\u001b[32mIn[56]\u001b[39m\u001b[32m, line 10\u001b[39m\n\u001b[32m      6\u001b[39m \u001b[38;5;66;03m# Forzen sets (immutable sets)\u001b[39;00m\n\u001b[32m      8\u001b[39m f = \u001b[38;5;28mfrozenset\u001b[39m([\u001b[32m1\u001b[39m,\u001b[32m2\u001b[39m,\u001b[32m4\u001b[39m,\u001b[32m5\u001b[39m])\n\u001b[32m---> \u001b[39m\u001b[32m10\u001b[39m \u001b[43mf\u001b[49m\u001b[43m.\u001b[49m\u001b[43madd\u001b[49m(\u001b[32m3\u001b[39m)\n",
      "\u001b[31mAttributeError\u001b[39m: 'frozenset' object has no attribute 'add'"
     ]
    }
   ],
   "source": [
    "# Membership Test\n",
    "print(2 in a)\n",
    "print(7 not in a)\n",
    "\n",
    "\n",
    "# Forzen sets (immutable sets)\n",
    "\n",
    "f = frozenset([1,2,4,5])\n",
    "\n",
    "# cann't modify"
   ]
  },
  {
   "cell_type": "code",
   "execution_count": null,
   "id": "70389ca5",
   "metadata": {},
   "outputs": [],
   "source": [
    "# Lambda Function\n",
    "\n",
    "# A lambda function is small anonymous function (function without a name)\n",
    "# it can have any number of arguments but only one expresion\n",
    "\n",
    "# Syntax\n",
    "# lambda arguments:expr\n"
   ]
  },
  {
   "cell_type": "code",
   "execution_count": 1,
   "id": "0e90d70e",
   "metadata": {},
   "outputs": [
    {
     "name": "stdout",
     "output_type": "stream",
     "text": [
      "8\n",
      "8\n"
     ]
    }
   ],
   "source": [
    "def add(a,b):\n",
    "    return a+b\n",
    "\n",
    "print(add(5,3))\n",
    "\n",
    "add_lambda = lambda x,y:x+y\n",
    "\n",
    "print(add_lambda(5,3))"
   ]
  },
  {
   "cell_type": "code",
   "execution_count": 2,
   "id": "ce8d4eef",
   "metadata": {},
   "outputs": [
    {
     "name": "stdout",
     "output_type": "stream",
     "text": [
      "16\n"
     ]
    }
   ],
   "source": [
    "square  = lambda x:x**2\n",
    "print(square(4))"
   ]
  },
  {
   "cell_type": "code",
   "execution_count": null,
   "id": "a68382bf",
   "metadata": {},
   "outputs": [
    {
     "name": "stdout",
     "output_type": "stream",
     "text": [
      "[1, 4, 9, 16, 25, 36]\n"
     ]
    }
   ],
   "source": [
    "# First Class citizen, callback, higerorder\n",
    "# Map filter reduce\n",
    "\n",
    "# map()\n",
    "# map(function,iterable)\n",
    "\n",
    "numbers = [1,2,3,4,5,6]\n",
    "# using map + lambda\n",
    "\n",
    "squared = list(map(lambda x:x**2,numbers))\n",
    "\n",
    "print(squared)"
   ]
  },
  {
   "cell_type": "code",
   "execution_count": null,
   "id": "8596e8b8",
   "metadata": {},
   "outputs": [
    {
     "name": "stdout",
     "output_type": "stream",
     "text": [
      "[2, 4, 6, 8]\n"
     ]
    }
   ],
   "source": [
    "# filter(function,iterable)\n",
    "\n",
    "numbers = [1,2,3,4,5,6,7,8]\n",
    "evens = list(filter(lambda x:x%2==0,numbers))\n",
    "print(evens)\n",
    "\n",
    "\n",
    "\n",
    "# reduce"
   ]
  },
  {
   "cell_type": "code",
   "execution_count": null,
   "id": "b36bcef9",
   "metadata": {},
   "outputs": [],
   "source": [
    "import functools\n",
    "\n",
    "functools.reduce\n",
    "\n",
    "from functools import  reduce\n",
    "\n",
    "\n",
    "\n",
    "\n",
    "\n",
    "\n"
   ]
  }
 ],
 "metadata": {
  "kernelspec": {
   "display_name": "python-hub (3.11.13)",
   "language": "python",
   "name": "python3"
  },
  "language_info": {
   "codemirror_mode": {
    "name": "ipython",
    "version": 3
   },
   "file_extension": ".py",
   "mimetype": "text/x-python",
   "name": "python",
   "nbconvert_exporter": "python",
   "pygments_lexer": "ipython3",
   "version": "3.11.13"
  }
 },
 "nbformat": 4,
 "nbformat_minor": 5
}
