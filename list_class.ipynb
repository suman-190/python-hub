{
 "cells": [
  {
   "cell_type": "code",
   "execution_count": null,
   "id": "c5ad6977",
   "metadata": {},
   "outputs": [
    {
     "name": "stdout",
     "output_type": "stream",
     "text": [
      "First ENV\n",
      "23\n",
      "['Lalitpur', 'Kathmandu', 23, 'Dang']\n"
     ]
    }
   ],
   "source": [
    "print(\"First ENV\")\n",
    "\n",
    "l1 = [\"Lalitpur\",\"Kathmandu\",23]\n",
    "\n",
    "print(l1[-1])\n",
    "l1.append(\"Dang\")\n",
    "\n",
    "print(l1)\n",
    "\n",
    "# LCM \n",
    "# \n",
    "# *****\n",
    "\n",
    "\n"
   ]
  },
  {
   "cell_type": "code",
   "execution_count": null,
   "id": "3ee239c4",
   "metadata": {},
   "outputs": [
    {
     "name": "stdout",
     "output_type": "stream",
     "text": [
      "[2, 3, 4, 5, 20, 30, 40, 50]\n",
      "[2, 3, 4, 5, 2, 3, 4, 5, 2, 3, 4, 5]\n",
      "[[2, 3, 4, 5], [20, 30, 40, 50], 20, 40]\n"
     ]
    }
   ],
   "source": [
    "li1 = [2,3,4,5]\n",
    "li2 = [20,30,40,50]\n",
    "\n",
    "print(li1 + li2)\n",
    "print(li1 * 3)\n",
    "result_list = [li1,li2,20,40]\n",
    "print(result_list)\n",
    "\n"
   ]
  },
  {
   "cell_type": "code",
   "execution_count": null,
   "id": "966b5e09",
   "metadata": {},
   "outputs": [
    {
     "name": "stdout",
     "output_type": "stream",
     "text": [
      "3\n"
     ]
    }
   ],
   "source": [
    "l1 = [[2,3,4],[20,30,40]]\n",
    "print(l1[0][1])\n",
    "\n",
    "# Matrix addition \n",
    "# Matrix Multiplication \n"
   ]
  },
  {
   "cell_type": "markdown",
   "id": "7b21172d",
   "metadata": {},
   "source": [
    "### List \n",
    "\n",
    "**List is a Class**\n",
    "\n",
    "**List is an iterable sequence**\n",
    "\n",
    "**List Mutable**\n",
    "\n",
    "**List Growable**\n",
    "\n",
    "**List can store heterogeneous data**\n",
    "\n",
    "**List Element are indexed**\n",
    "\n",
    "\n"
   ]
  },
  {
   "cell_type": "code",
   "execution_count": null,
   "id": "60838efd",
   "metadata": {},
   "outputs": [
    {
     "name": "stdout",
     "output_type": "stream",
     "text": [
      "<class 'list'>\n",
      "<class 'int'>\n"
     ]
    }
   ],
   "source": [
    "l1 = [10,20,30]\n",
    "l1.insert(1,300)\n",
    "print(type(l1))\n",
    "\n",
    "\n",
    "# Data \n",
    "# Data Type in the context of Python ?\n",
    "\n",
    "\n",
    "num1  = 200\n",
    "print(type(num1))\n",
    "\n",
    "\n",
    "\n",
    "\n"
   ]
  },
  {
   "cell_type": "code",
   "execution_count": 14,
   "id": "e0ca34e5",
   "metadata": {},
   "outputs": [
    {
     "name": "stdout",
     "output_type": "stream",
     "text": [
      "8\n",
      "10\n",
      "200\n",
      "[200, 100, 50, 43, 30, 22, 12, 10]\n",
      "467\n"
     ]
    }
   ],
   "source": [
    "# Built in Methonds\n",
    "li1 = [22,30,10,12,43,50,100,200]\n",
    "\n",
    "print(len(li1))\n",
    "print(min(li1))\n",
    "print(max(li1))\n",
    "print(sorted(li1,reverse=True))\n",
    "print(sum(li1))\n"
   ]
  },
  {
   "cell_type": "code",
   "execution_count": null,
   "id": "e1989d57",
   "metadata": {},
   "outputs": [
    {
     "name": "stdout",
     "output_type": "stream",
     "text": [
      "5\n",
      "8\n",
      "11\n",
      "14\n",
      "17\n"
     ]
    }
   ],
   "source": [
    "# print(range(5,2,3))\n",
    "\n",
    "for i in range(5,20,3):\n",
    "    print(i) \n",
    "# Read about this \n",
    "\n",
    "\n",
    "\n"
   ]
  },
  {
   "cell_type": "code",
   "execution_count": 13,
   "id": "77e5b930",
   "metadata": {},
   "outputs": [
    {
     "name": "stdout",
     "output_type": "stream",
     "text": [
      "S\n",
      "u\n",
      "m\n",
      "a\n",
      "n\n",
      "['s', 'u', 'm', 'a', 'n']\n",
      "[1, 11, 21, 31]\n"
     ]
    }
   ],
   "source": [
    "# We can pass Iterable sequence inside list function\n",
    "\n",
    "\n",
    "for i in \"Suman\":\n",
    "    print(i)\n",
    "\n",
    "\n",
    "# l = list(20)\n",
    "# Error\n",
    "li2 = list(\"suman\")\n",
    "print(li2)\n",
    "li3 = list(range(1,32,10))\n",
    "print(li3)\n",
    "\n",
    "\n"
   ]
  },
  {
   "cell_type": "code",
   "execution_count": null,
   "id": "cbeb3259",
   "metadata": {},
   "outputs": [],
   "source": [
    "# Write a program to sort a given list/array\n",
    "\n",
    "# pop\n",
    "# clear\n",
    "# count\n",
    "# index\n"
   ]
  },
  {
   "cell_type": "code",
   "execution_count": null,
   "id": "07d1f481",
   "metadata": {},
   "outputs": [
    {
     "name": "stdout",
     "output_type": "stream",
     "text": [
      "<class 'tuple'>\n",
      "<class 'tuple'>\n",
      "(5, 6, 7)\n"
     ]
    }
   ],
   "source": [
    "# Tuple\n",
    "\n",
    "t1 = (2,3,5,6,7,8)\n",
    "print(type(t1))\n",
    "t2 = (10,)\n",
    "print(type(t2))\n",
    "\n",
    "\n",
    "# Tuple is immutable\n"
   ]
  },
  {
   "cell_type": "code",
   "execution_count": 4,
   "id": "a8901706",
   "metadata": {},
   "outputs": [
    {
     "data": {
      "text/plain": [
       "23"
      ]
     },
     "execution_count": 4,
     "metadata": {},
     "output_type": "execute_result"
    }
   ],
   "source": [
    "mul_tup = ((23,34),(23,45))\n",
    "mul_tup[0][0]"
   ]
  },
  {
   "cell_type": "code",
   "execution_count": 6,
   "id": "50cdd7cc",
   "metadata": {},
   "outputs": [
    {
     "name": "stdout",
     "output_type": "stream",
     "text": [
      "[0, 1, 4, 9, 16]\n"
     ]
    }
   ],
   "source": [
    "# List comprehension\n",
    "\n",
    "# [expreesion for vaiable in iterable]\n",
    "# List\n",
    "\n",
    "lc = [e**2 for e in range(5)]\n",
    "\n",
    "print(lc)\n",
    "\n"
   ]
  },
  {
   "cell_type": "code",
   "execution_count": null,
   "id": "26c120ee",
   "metadata": {},
   "outputs": [],
   "source": [
    "# [6,6,6,6,6,6,6]\n",
    "# create a list of first n odd natural number\n",
    "\n",
    "\n",
    "\n",
    "\n",
    "\n",
    "[1,2,3,4,5]\n",
    "\n",
    "\n",
    "\n",
    "\n",
    "\n",
    "\n",
    "\n"
   ]
  }
 ],
 "metadata": {
  "kernelspec": {
   "display_name": "python-hub (3.11.13)",
   "language": "python",
   "name": "python3"
  },
  "language_info": {
   "codemirror_mode": {
    "name": "ipython",
    "version": 3
   },
   "file_extension": ".py",
   "mimetype": "text/x-python",
   "name": "python",
   "nbconvert_exporter": "python",
   "pygments_lexer": "ipython3",
   "version": "3.11.13"
  }
 },
 "nbformat": 4,
 "nbformat_minor": 5
}
